{
 "cells": [
  {
   "cell_type": "markdown",
   "id": "ac0e9ed2",
   "metadata": {},
   "source": [
    "## Wstęp"
   ]
  },
  {
   "cell_type": "markdown",
   "id": "c1732d0d",
   "metadata": {},
   "source": [
    "Zad 1"
   ]
  },
  {
   "cell_type": "code",
   "execution_count": 1,
   "id": "7ef2792e",
   "metadata": {},
   "outputs": [
    {
     "name": "stdout",
     "output_type": "stream",
     "text": [
      "0.625\n",
      "11\n"
     ]
    }
   ],
   "source": [
    "# Przykład\n",
    "print(5 / 8)\n",
    "\n",
    "# Wyświetl na ekranie sumę 3 i 8\n",
    "print(3+8)"
   ]
  },
  {
   "cell_type": "markdown",
   "id": "f3020663",
   "metadata": {},
   "source": [
    "Zad 2\n",
    "\n",
    "Dodaj komentarz nad liniją <code>print(7 + 10)</code>"
   ]
  },
  {
   "cell_type": "code",
   "execution_count": null,
   "id": "6cfd989e",
   "metadata": {},
   "outputs": [],
   "source": [
    "# Dzielenie\n",
    "print(5 / 8)\n",
    "\n",
    "\n",
    "print(7 + 10)"
   ]
  },
  {
   "cell_type": "code",
   "execution_count": null,
   "id": "a023106d",
   "metadata": {},
   "outputs": [],
   "source": [
    "Zad 3\n",
    "\n",
    "Wszystkie podstawowe działania arytmetyczne są wbudowane w Pythona."
   ]
  },
  {
   "cell_type": "code",
   "execution_count": 2,
   "id": "c5d07223",
   "metadata": {},
   "outputs": [
    {
     "name": "stdout",
     "output_type": "stream",
     "text": [
      "10\n",
      "0\n",
      "15\n",
      "5.0\n",
      "4\n",
      "2\n",
      "16\n"
     ]
    },
    {
     "data": {
      "text/plain": [
       "Ellipsis"
      ]
     },
     "execution_count": 2,
     "metadata": {},
     "output_type": "execute_result"
    }
   ],
   "source": [
    "# Dodawanie, odejmowanie\n",
    "print(5 + 5)\n",
    "print(5 - 5)\n",
    "\n",
    "# Mnożenie, dzielenie, modulo, dzielenie całkowitoliczbowe i potęgowanie\n",
    "print(3 * 5)\n",
    "print(10 / 2)\n",
    "print(18 % 7)\n",
    "print(18 // 7)\n",
    "print(4 ** 2)\n",
    "\n",
    "# Załóżmy, że inwestujesz 100$ z 10% stopą zwrotu. Po roku masz już 100*1.1 = 110$, po dwóch latach 100*1.1*1.1 = 121$.\n",
    "# Ile pieniędzy będziesz miał po 7 latach ?\n",
    "..."
   ]
  },
  {
   "cell_type": "markdown",
   "id": "ad258fb6",
   "metadata": {},
   "source": [
    "## Zmienne i typy"
   ]
  },
  {
   "cell_type": "markdown",
   "id": "94c356b0",
   "metadata": {},
   "source": [
    "Zmienna - sposób na przechowywanie wartości\n",
    "Typy - kategorie wartości wbudowane w Pythona"
   ]
  },
  {
   "cell_type": "markdown",
   "id": "194e7f39",
   "metadata": {},
   "source": [
    "Zad 1\n",
    "\n",
    "Przypiswanie zmiennych."
   ]
  },
  {
   "cell_type": "code",
   "execution_count": null,
   "id": "c6e5fc55",
   "metadata": {},
   "outputs": [],
   "source": [
    "# Stwórz zmienną o nazwie savings i wartości 100.\n",
    "...\n",
    "\n",
    "# Wyświetl wartość zmiennej savings\n",
    "..."
   ]
  },
  {
   "cell_type": "markdown",
   "id": "193f1cfd",
   "metadata": {},
   "source": [
    "Zad 2\n",
    "\n",
    "Obliczenia z użyciem zmiennych"
   ]
  },
  {
   "cell_type": "code",
   "execution_count": null,
   "id": "3c59b766",
   "metadata": {},
   "outputs": [],
   "source": [
    "# Stwórz zmienną o nazwie savings i wartości 100\n",
    "...\n",
    "\n",
    "# Stwórz zmienną o nazwie growth_multiplier i wartości 1.1\n",
    "...\n",
    "\n",
    "# Stwórz zmienną result, która będzie przechowywała wartość savings po 7 latach przy rocznej stopie zwrotu growth_multipier\n",
    "...\n",
    "\n",
    "# Wyświetl wartość zmiennej result\n",
    "..."
   ]
  },
  {
   "cell_type": "markdown",
   "id": "6e6f3ce0",
   "metadata": {},
   "source": [
    "Zad 3\n",
    "\n",
    "Inne typy zmiennych"
   ]
  },
  {
   "cell_type": "code",
   "execution_count": null,
   "id": "9c046b2c",
   "metadata": {},
   "outputs": [],
   "source": [
    "# Stwórz zmienną desc typu string o wartości \"compound interest\"\n",
    "...\n",
    "\n",
    "# Stwórz zmienną profitable typu boolean o wartości True\n",
    "..."
   ]
  },
  {
   "cell_type": "markdown",
   "id": "cf3639c7",
   "metadata": {},
   "source": [
    "Zad 4\n",
    "\n",
    "Funkcja type"
   ]
  },
  {
   "cell_type": "code",
   "execution_count": null,
   "id": "69fa9a4f",
   "metadata": {},
   "outputs": [],
   "source": [
    "a = 194.87171000000012\n",
    "b = 'True'\n",
    "c = False\n",
    "\n",
    "# Wyświetl typ zmiennej a\n",
    "...\n",
    "\n",
    "# Wyświetl typ zmiennej b\n",
    "...\n",
    "\n",
    "# Wyświetl typ zmiennej c\n",
    "...\n"
   ]
  },
  {
   "cell_type": "markdown",
   "id": "571ee674",
   "metadata": {},
   "source": [
    "Zad 5\n",
    "\n",
    "Operacje na innych typach"
   ]
  },
  {
   "cell_type": "code",
   "execution_count": null,
   "id": "0aee9165",
   "metadata": {},
   "outputs": [],
   "source": [
    "savings = 100\n",
    "growth_multiplier = 1.1\n",
    "desc = \"compound interest\"\n",
    "\n",
    "# Przypisz iloczyn savings i growth_multiplier do zmiennej year1\n",
    "...\n",
    "\n",
    "# Wyświetl typ zmiennej year1\n",
    "...\n",
    "\n",
    "# Przypisz sumę zmiennej desc i desc do zmiennej doubledesc\n",
    "...\n",
    "\n",
    "# Wyświetl zmienną doubledesc\n",
    "..."
   ]
  },
  {
   "cell_type": "markdown",
   "id": "0c4c2fd0",
   "metadata": {},
   "source": [
    "Zad 6\n",
    "\n",
    "Rzutowanie (konwersja) typów"
   ]
  },
  {
   "cell_type": "code",
   "execution_count": null,
   "id": "8c2b86a6",
   "metadata": {},
   "outputs": [],
   "source": [
    "# Definicje zmiennych savings i result\n",
    "savings = 100\n",
    "result = 100 * 1.10 ** 7\n",
    "\n",
    "# Ta linijka rzuca błąd. Popraw ją. W tym celu zrzutuj zmienne na odpowiednie typy.\n",
    "print(\"I started with $\" + savings + \" and now have $\" + result + \". Awesome!\")\n",
    "\n",
    "# Definijca zmiennej pi_string\n",
    "pi_string = \"3.1415926\"\n",
    "\n",
    "# Zrzutuj zmienną pi_string na typ float, wynik przypisz do zmiennej pi_float\n",
    "..."
   ]
  }
 ],
 "metadata": {
  "kernelspec": {
   "display_name": "Python 3 (ipykernel)",
   "language": "python",
   "name": "python3"
  },
  "language_info": {
   "codemirror_mode": {
    "name": "ipython",
    "version": 3
   },
   "file_extension": ".py",
   "mimetype": "text/x-python",
   "name": "python",
   "nbconvert_exporter": "python",
   "pygments_lexer": "ipython3",
   "version": "3.11.1"
  }
 },
 "nbformat": 4,
 "nbformat_minor": 5
}
