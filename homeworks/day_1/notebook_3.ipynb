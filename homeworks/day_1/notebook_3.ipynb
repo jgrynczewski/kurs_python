{
 "cells": [
  {
   "cell_type": "markdown",
   "id": "700b7d99",
   "metadata": {},
   "source": [
    "## Kolekcje"
   ]
  },
  {
   "cell_type": "markdown",
   "id": "869bdeee",
   "metadata": {},
   "source": [
    "### 1. Listy"
   ]
  },
  {
   "cell_type": "markdown",
   "id": "ab30d695",
   "metadata": {},
   "source": [
    "#### Zad 1.1 - metody i funkcje\n",
    "\n",
    "Dla danej listy <code>l = [1, 2, 3, 4, 5]</code>:\n",
    "\n",
    "* wyświetl jej długość (użyj funkcję len())\n",
    "* dodaj do niej szósty element o wartości 2 (użyj metody append())\n",
    "* wyświetl ile elementów listy l ma wartość 2 (użyj metody count())\n",
    "* wyświetl ile elementów listy l ma wartość 7\n",
    "* rozszerz listę l o listę [6, 7, 8] (użyj metody extend())\n",
    "* sprawdź jaki indeks ma element listy l o wartości 7 (użyj metody index())\n",
    "* dodaj element o wartości 10 na pierwszej pozycji listy (indeks 0) (użyj metody insert())\n",
    "* użyj indeksowania do sprawdzenia, czy 10 została umieszczona w prawidłowy miejscu\n",
    "* wyświetl wartość ostatniego elementu listy l (użyj indeksu -1)\n",
    "* wyświetl wartość ostatniego elementu listy l usuwając go jednocześnie z listy (użyj metody pop())\n",
    "* usuń z listy l element o wartości 4 (użyj metody remove())\n",
    "* odwróć listę l i wyświetl ją (użyj metody reverse())\n",
    "* posortuj listę l i wyświetl ją (użyj metody sort())\n",
    "* wyczyść listę l i wyświetl ją (użyj metody clear())\n",
    "\n",
    "Podpowiedź: użyj instrukcji help(list), żeby wyświetlić krótki opis wszystkich metod listy. Metody, których nazwy rozpoczynają się od __ (double underscore = dunder) omówimy w bloku Python średnio-zaawansowany."
   ]
  },
  {
   "cell_type": "code",
   "execution_count": 28,
   "id": "9948cf0d",
   "metadata": {},
   "outputs": [],
   "source": [
    "# Tutaj umieść swój kod\n"
   ]
  },
  {
   "cell_type": "markdown",
   "id": "21fd127c",
   "metadata": {},
   "source": [
    "#### zad 1.2 - szatkowanie\n",
    "\n",
    "Dla danej listy <code>l = [\"User1\", \"UserChris\", \"User2\", \"Admin\"]</code>:\n",
    "* wyświetl fragment listy składający się tylko z elementu \"UserChris\"\n",
    "* wyświetl fragment listy składający się ze wszystkich elementów poza pierwszym\n",
    "* wyświetl fragment listy składający się ze wszystkich elementów poza elementem \"Admin\"\n",
    "* wyświetl fragment listy składający się z pierwszych trzech elementów."
   ]
  },
  {
   "cell_type": "code",
   "execution_count": 29,
   "id": "737c7241",
   "metadata": {},
   "outputs": [],
   "source": [
    "# Tutaj umieść swój kod\n"
   ]
  },
  {
   "cell_type": "markdown",
   "id": "75d315b2",
   "metadata": {},
   "source": [
    "#### Zad 1.3\n",
    "\n",
    "Mamy listę słów, np:\n",
    "\n",
    "<code>l = ['kot', 'elementarz', 'okno', 'komputer’]</code>\n",
    "\n",
    "Napisz program, który wyświetli kolejne elementy listy wraz z informacją o ich długości.\n",
    "\n",
    "Wywołanie programu dla listy l\n",
    "\n",
    "<code>C:\\Users\\Ania\\PycharmProjects\\testtt>python zad15.py​\n",
    "Słowo kot ma długość 3​\n",
    "Słowo elementarz ma długość 10​\n",
    "Słowo okno ma długość 4​\n",
    "Słowo komputer ma długość 8\n",
    "</code>"
   ]
  },
  {
   "cell_type": "code",
   "execution_count": 30,
   "id": "f4988c9a",
   "metadata": {},
   "outputs": [],
   "source": [
    "# Tutaj umieść swój kod\n"
   ]
  },
  {
   "cell_type": "markdown",
   "id": "19f65788",
   "metadata": {},
   "source": [
    "#### Zad 1.4\n",
    "\n",
    "Mamy listę wyrazów, np:\n",
    "\n",
    "<code>l2 = [\"spam\", \"stół\", \"spam\", \"brązowy\", \"powietrze\", \"maleware\", \"spam\", \"koniec\"]</code>\n",
    "\n",
    "Napisz program, który będzie wyświetlał kolejne elementy listy, jeżeli nie mają wartości \"spam\". Dodatkowo, jeżeli element listy ma wartość \"maleware\" program powinien natychmiast przerwać swoje działanie.\n",
    "\n",
    "\n",
    "<code>Wywołanie programu dla listy l2:\n",
    "C:\\Users\\Ania\\PycharmProjects\\testtt>python zad17.py\n",
    "stół\n",
    "brązowy\n",
    "powietrze\n",
    "</code>"
   ]
  },
  {
   "cell_type": "code",
   "execution_count": 31,
   "id": "bec71fbf",
   "metadata": {},
   "outputs": [],
   "source": [
    "# Tutaj umieść swój kod\n"
   ]
  },
  {
   "cell_type": "markdown",
   "id": "4d7a28af",
   "metadata": {},
   "source": [
    "#### Zad 1.5\n",
    "\n",
    "Napisz program, który poprosi użytkownika o podanie listy słów, a następnie wypisuje podane słowa w odwrotnej kolejności."
   ]
  },
  {
   "cell_type": "code",
   "execution_count": 32,
   "id": "93339120",
   "metadata": {},
   "outputs": [],
   "source": [
    "# Tutaj umieść swój kod\n"
   ]
  },
  {
   "cell_type": "markdown",
   "id": "a559d30f",
   "metadata": {},
   "source": [
    "#### Zad 1.6\n",
    "\n",
    "Napisz funkcję, która na wejściu przyjmuje parametr n, a na wyjściu zwraca n liczb parzystych."
   ]
  },
  {
   "cell_type": "code",
   "execution_count": 33,
   "id": "26c6f5e3",
   "metadata": {},
   "outputs": [],
   "source": [
    "# Tutaj umieść swój kod\n"
   ]
  },
  {
   "cell_type": "markdown",
   "id": "7ec781f4",
   "metadata": {},
   "source": [
    "#### Zad 1.7\n",
    "\n",
    "Napisz program, który znajdzie największy element listy. Postaraj się zrobić zadanie bez użycia wbudowanej funkcji max."
   ]
  },
  {
   "cell_type": "code",
   "execution_count": 34,
   "id": "c083bb3e",
   "metadata": {},
   "outputs": [],
   "source": [
    "# Tutaj umieść swój kod\n"
   ]
  },
  {
   "cell_type": "markdown",
   "id": "8b8f0dc3",
   "metadata": {},
   "source": [
    "#### Zad 1.8\n",
    "\n",
    "Napisz program, który wymnoży wszystkie elementy listy."
   ]
  },
  {
   "cell_type": "code",
   "execution_count": 35,
   "id": "00b665fc",
   "metadata": {},
   "outputs": [],
   "source": [
    "# Tutaj umieść swój kod\n"
   ]
  },
  {
   "cell_type": "markdown",
   "id": "6b59c457",
   "metadata": {},
   "source": [
    "#### Zad 1.9\n",
    "\n",
    "Napisz funkcję get_range, która na wejściu przyjmuje dwa parametry start, stop, a na wyjściu zwraca wszystkie liczby całkowite od start do stop (bez stop)."
   ]
  },
  {
   "cell_type": "code",
   "execution_count": 36,
   "id": "46b9061c",
   "metadata": {},
   "outputs": [],
   "source": [
    "# Tutaj umieść swój kod\n"
   ]
  },
  {
   "cell_type": "markdown",
   "id": "e48fb074",
   "metadata": {},
   "source": [
    "#### Zad 1.10\n",
    "\n",
    "Napisz program, który wyświetli liczbę liczb parzystych oraz liczbę liczb nieparzystych w zadanej sekwencji.\n",
    "\n",
    "Przykład:\n",
    "dla sekwencji \n",
    "\n",
    "<code>[4, 1, 3, 42, 5, 67, 43, 4, 20, 33, 12]</code>\n",
    "\n",
    "program powinien wypisać:\n",
    "\n",
    "<code>Liczba parzystych wartości w sekwencji: 5\n",
    "Liczba nieparzystych wartości w sekwencji: 6\n",
    "</code>\n"
   ]
  },
  {
   "cell_type": "code",
   "execution_count": 37,
   "id": "7e044a07",
   "metadata": {},
   "outputs": [],
   "source": [
    "# Tutaj umieść swój kod\n"
   ]
  },
  {
   "cell_type": "markdown",
   "id": "356a1ef6",
   "metadata": {},
   "source": [
    "### 2. Krotki"
   ]
  },
  {
   "cell_type": "markdown",
   "id": "efa544bd",
   "metadata": {},
   "source": [
    "#### Zad 2.1 \n",
    "\n",
    "Dla danego przepisu <code>k = (\"boil water\", \"insert egg\", \"wait 5min\", \"eat\")</code>:\n",
    "* wyświetl trzeci krok przepisu (użyj operatora [] ),\n",
    "* wyświetl kawałek listy składający się z dwóch ostatnich elementów przepisu,\n",
    "* sprawdź ile razy występuje element \"wait 5min\" w przepisie k (użyj metody count()),\n",
    "* sprawdź czy element \"boil water\" jest pierwszym elementem krotki (użyj metody index())"
   ]
  },
  {
   "cell_type": "code",
   "execution_count": 38,
   "id": "e56049a6",
   "metadata": {},
   "outputs": [],
   "source": [
    "# Tutaj umieść swój kod\n"
   ]
  },
  {
   "cell_type": "markdown",
   "id": "0982db50",
   "metadata": {},
   "source": [
    "#### Zad 2.2\n",
    "\n",
    "Napisz program, który policzy kwadrat sumy elementów krotki."
   ]
  },
  {
   "cell_type": "code",
   "execution_count": 39,
   "id": "7e650917",
   "metadata": {},
   "outputs": [],
   "source": [
    "# Tutaj umieść swój kod\n"
   ]
  },
  {
   "cell_type": "markdown",
   "id": "d61170b3",
   "metadata": {},
   "source": [
    "### 3. Napisy"
   ]
  },
  {
   "cell_type": "markdown",
   "id": "8f8acd48",
   "metadata": {},
   "source": [
    "#### Zad 3.1\n",
    "\n",
    "Pamiętaj, że napis to take typ sekwencyjny.\n",
    "Mamy napis word = \"konstantynopolitańczykowianeczka\":\n",
    "* sprawdź ile razy w zmiennej word występuje litera ”a” (użyj metody count)\n",
    "* znajdź indeks pierwszego wystąpienia litery „k” w zmiennej word (użyj metody find)\n",
    "* znajdź indeks pierwszego wystąpienia litery „k” w zmiennej word (użyj metody index)\n",
    "* znajdź indeks pierwszego wystąpienia litery „b” w zmiennej word (użyj metody find)\n",
    "* znajdź indeks pierwszego wystąpienia litery „b” w zmiennej word (użyj metody index)\n",
    "* znajdź indeks ostatniego wystąpienia litery „k” w zmiennej word (użyj metody rfind lub rindex)\n",
    "* sprawdź czy zmienna word zaczyna się od napisu ”konst” (użyj metody startswith)\n",
    "* sprawdź czy zmienna word kończy się na „czka” (użyj metody endswith)\n",
    "* usuń z napisu „     ala ma kota   ” znajdujące się na początku i końcu, białe znaki (użyj metody strip)\n",
    "* usuń z napisu „     ala ma kota   ” znajdujące się na początku, białe znaki (użyj metody lstrip)\n",
    "* usuń z napisu „     ala ma kota   ” znajdujące się na końcu, białe znaki (użyj metody rstrip)\n",
    "* utwórz z napisu \"pierwszy, drugi, trzeci\" trzyelementową listę ['pierwszy', 'drugi', 'trzeci’] (użyj metody split)\n",
    "* utwórz z napisu „pierwszy\\ndrugi” dwuelementową listę (użyj metody splitlines)\n",
    "* rozdziel napis „Adres: Armii Krajowej 61” przyjmując za separator znak ”:” (użyj metody partition)\n",
    "* utwórz z listy ['pierwszy', 'drugi', 'trzeci’] napis \"pierwszy, drugi, trzeci\" (użyj metody join)\n",
    "* zamień wszystkie wystąpienia znaku \"X\" w napisie \"Witaj X! Czy mogę zwracać się do Ciebie X?\" na swoje imię (użyj metody replace)\n",
    "* wyśrodkuj napis \"środek\" w dziesięcio-znakowym napisie (użyj metody center)\n",
    "* używając metody ljust uzyskaj identyczny wynik jak dla wywołania \"x\".center(10)\n",
    "* używając metody rjust uzyskaj identyczny wynik jak dla wywołania \"x\".center(10)\n",
    "* sprawdź czy napis \"192\" składa się z samych cyfr (użyj metody isdigit)\n",
    "* sprawdź czy napis \"konstantynopolitańczykowianeczka\" składa się tylko ze znaków alfabetycznych (użyj metody isalpha)\n",
    "* sprawdź czy napis \"Warszawa, Graniczna 1\" składa się tylko ze znaków alfanumerycznych. Jeżeli nie, popraw go tak, żeby składał się wyłącznie ze znaków alfanumerycznych (użyj metody isalnum)\n",
    "* sprawdź czy napis \"   \\t\\n\" składa się wyłącznie z białych znaków (użyj metody isspace)\n",
    "* zmień wszystkie znaki w napisie\"WyMiesZAnE WielKOŚci LiTeR\" na małe (użyj metody lower)\n",
    "* sprawdź, czy w podanym przez Ciebie (dowolnym) słowie wszystkie znaki są małe (użyj metody islower)\n",
    "* zamień napis \"to jest tytuł\" na napis tytułowy (użyj metody title)\n",
    "* zamień wszystkie znaki w napisie \"Maroco to piękny kraj\" na wielkie (użyj metody upper)\n",
    "* sprawdź, czy napis \"iliada\" to napis tytułowy (użyj metody istitle). Jeżeli nie, popraw go (użyj metody capitalize)\n",
    "* zamień wszystkie litery w napisie \"ala ma kota\" na wielkie (użyj metody upper)\n",
    "* sprawdź, czy w podanym przez Ciebie (dowolnym) słowie wszystkie znaki są wielkie (użyj metody isupper)\n",
    "* użyj metody swapcase na napisie \"BaRdZo PoMiEsZaNy NaPiS\". Jaki jest efekt działania metody swapcase ?\n",
    "* porównaj napisy \"Straße\" i \"strasse\". Potem użyj metody casefold na napisie \"Straße\" i porównaj go z napisem \"strasse\".\n",
    "\n",
    "Podpowiedź: użyj instrukcji help(str), żeby wyświetlić krótki opis wszystkich metod napisu. Metody, których nazwy rozpoczynają się od __ (double underscore = dunder) omówimy w bloku Python średnio-zaawansowany."
   ]
  },
  {
   "cell_type": "code",
   "execution_count": 40,
   "id": "15d062ac",
   "metadata": {},
   "outputs": [],
   "source": [
    "# Tutaj umieść swój kod\n"
   ]
  },
  {
   "cell_type": "markdown",
   "id": "d095d9d4",
   "metadata": {},
   "source": [
    "#### Zad 3.2\n",
    "\n",
    "Napisz funkcje, która zlicza ilość wystąpień poszczególnych liter w słowie. Funkcja, na wejściu powinna przyjmować słowo, a na wyjściu zwracać słownik (litera: liczba wystąpień) wskazujący ile razy pojawiła się w słowie każda z liter  tego słowa.\n",
    "\n",
    "Przykładowe wywołanie funkcji:\n",
    "<code>print(count_letters(\"koniokrad\"))</code>\n",
    "\n",
    "powinno zwrócić:\n",
    "\n",
    "<code>{'k': 2, 'o': 2, 'n': 1, 'i': 1, 'r': 1, 'a': 1, 'd': 1}</code>"
   ]
  },
  {
   "cell_type": "code",
   "execution_count": 41,
   "id": "41216af9",
   "metadata": {},
   "outputs": [],
   "source": [
    "# Tutaj umieść swój kod\n"
   ]
  },
  {
   "cell_type": "markdown",
   "id": "6393bf2b",
   "metadata": {},
   "source": [
    "#### Zad 3.3\n",
    "\n",
    "Napisz program, który dla zadanego napisu wyświetli ile znajduje się w tym napisie cyfr, a ile pozostałych symboli (z pominięciem pustych znaków, tj. spacji, tabulatorów, znaków nowej linii). \n",
    "\n",
    "Na przykład dla napisu: \n",
    "\n",
    "<code>\"Przykładowy napis 42 - test 123\" </code>\n",
    "\n",
    "program wyświetli komunikat:\n",
    "\n",
    "<code>Liczba cyfr w napisie: 5\n",
    "Liczba symboli nienumerycznych w napisie: 19\n",
    "</code>"
   ]
  },
  {
   "cell_type": "code",
   "execution_count": 42,
   "id": "4fe78a88",
   "metadata": {},
   "outputs": [],
   "source": [
    "# Tutaj umieść swój kod\n"
   ]
  },
  {
   "cell_type": "markdown",
   "id": "c1ce141f",
   "metadata": {},
   "source": [
    "### 4. Słowniki"
   ]
  },
  {
   "cell_type": "markdown",
   "id": "ee3e9324",
   "metadata": {},
   "source": [
    "#### Zad 4.0\n",
    "\n",
    "Stwórz słownik, który będzie przechowywał informacje o samochodzie. W słowniku powinna znajdować się informacja o marce, roku produkcji oraz modelu. Słownik przypisz do zmiennej. Po stworzeniu słownika:\n",
    "\n",
    "* dodaj do niego informacje o kolorze samochodu,\n",
    "* zmień rok produkcji,\n",
    "* usuń informacje o modelu.\n",
    "\n",
    "Na koniec wyświetl wszystkie klucze swojego słownika, a następnie wszystkie wartości swojego słownika."
   ]
  },
  {
   "cell_type": "markdown",
   "id": "868975a8",
   "metadata": {},
   "source": [
    "#### Zad. 4.1\n",
    "\n",
    "Dla danego słownika <code>s = {1: \"one\", 2: \"two\", 3: \"three\"}</code>:\n",
    "* wyświetl jego długość (użyj funkcję len())\n",
    "* dodaj do słownika s parę klucz-wartość:  4: \"four\" (użyj operatora [])\n",
    "* wyświetl wartość pod kluczem 2 (użyj operatora [])\n",
    "* wyświetl wartość pod nieistniejącym kluczem 10 (użyj operatora [])\n",
    "* wyświetl wartość pod nieistniejącym kluczem 10 (użyj metody get())\n",
    "* wyświetl wartość pod nieistniejącym kluczem 10 (użyj metody get(key, default), parametrowi default przypisz wartość \"unknown\")\n",
    "* użyj metody items(). Co zwraca metoda items()? Czy to lista ?\n",
    "* użyj metod keys() i values(). Co zwracają te metody?\n",
    "* wyświetl wartość pod kluczem 2 przy użyciu metody pop(). Wyświetl zawartość słownika po użyciu metody pop()).\n",
    "* użyj metody popitem(). Wyświetl zawartość słownika po użyciu metody popitem()).\n",
    "* użyj metody setdefault() do stworzenia pary 2: \"two\"\n",
    "* spróbuj użyć metody setdefault() do stworzenia pary 3: \"new-three\"\n",
    "* stwórz nowy słownik {0: \"zero\"}. Zaktualizuj słownik s o wartości z nowego słownika (użyj metody update())\n",
    "* wyczyść słownik s (użyj metody clear())\n",
    "* za pomocą listy [\"x\", \"y\", \"z\"] utwórz słownik ze wszystkimi wartościami zainicjalizowanymi na wartość domyślną False.\n",
    "\n",
    "Podpowiedź: użyj instrukcji help(dict), żeby wyświetlić krótki opis wszystkich metod słownika. Metody, których nazwy rozpoczynają się od __ (double underscore = dunder) omówimy w bloku Python średnio-zaa"
   ]
  },
  {
   "cell_type": "code",
   "execution_count": 43,
   "id": "f80c36ce",
   "metadata": {},
   "outputs": [],
   "source": [
    "# Tutaj umieść swój kod\n"
   ]
  },
  {
   "cell_type": "markdown",
   "id": "376dd0e6",
   "metadata": {},
   "source": [
    "#### Zad 4.2 \n",
    "\n",
    "Mamy książkę adresową postaci:\n",
    "\n",
    "<code>address_book = {\n",
    "    \"Helena\": \"ul. Miodowa 3a\\n69-896 Bory tucholskie\",\n",
    "    \"Teresa\": \"ul. Konopcnickiej 25/11\\n19-305 Ełk\",\n",
    "    \"Jan\": \"ul. Klonowa 6/47\\n65-963 Warszawa\",\n",
    "    \"Wojciech\": \"ul. Przykładowa 15/6\\n03-946 Przykładowo\"\n",
    "}\n",
    "</code>\n",
    "\n",
    "Napisz program, który poprosi użytkownika o podanie imienia. Jeżeli imię znajduje się w książce adresowej, program wyświetli adres tej osoby. W przeciwnym razie program wyświetli informację o tym, że adres wskazanej osoby jest nieznany."
   ]
  },
  {
   "cell_type": "code",
   "execution_count": 44,
   "id": "2b7d0246",
   "metadata": {},
   "outputs": [],
   "source": [
    "# Tutaj umieść swój kod\n"
   ]
  },
  {
   "cell_type": "markdown",
   "id": "242902ae",
   "metadata": {},
   "source": [
    "#### Zad 4.3\n",
    "\n",
    "Napisz program, który zsumuje wszystkie wartości w zadanym słowniku."
   ]
  },
  {
   "cell_type": "code",
   "execution_count": 45,
   "id": "e06d61b4",
   "metadata": {},
   "outputs": [],
   "source": [
    "# Tutaj umieść swój kod\n"
   ]
  },
  {
   "cell_type": "markdown",
   "id": "8a591d98",
   "metadata": {},
   "source": [
    "### 5. Zbiory"
   ]
  },
  {
   "cell_type": "markdown",
   "id": "0761faf6",
   "metadata": {},
   "source": [
    "#### 5.1\n",
    "\n",
    "Dla danych zbiorów:\n",
    "\n",
    "<code>ryby = {\"dorsz\", \"łosoś\", \"karp\"}\n",
    "ptaki = {\"bocian\", \"sroka\"}\n",
    "zwierzeta = {\"dorsz\", \"bocian\"}\n",
    "maly_staw = {\"karp\"}\n",
    "</code>\n",
    "\n",
    "* sprawdż czy \"łosoś\" jest elementem zbioru: ryby, zwierzęta (użyj operatora zawierania in)\n",
    "* sprawdź czy zbiory ryby i ptaki są rozłączne (użyj metody isdisjoint)\n",
    "* sprawdź czy zbiory ryby i zwierzeta są rozłączne (użyj metody isdisjoint)\n",
    "* sprawdź czy zbiór maly_staw jest podzbiorem zbioru ryby (użyj metody issubset)\n",
    "* sprawdż czy zbiór zwierzęta jest nadzbiorem zbioru ptaki (użyj metody issuperset)\n",
    "* stwórz nowy zbiór zwierzeta zawierający wszystkie elementy zbiorów ptaki i ryby (użyj metody union)\n",
    "* stwórz nowy zbiór zawierający elementy wspólne zbiorów maly_staw i ryby (użyj metody intersection)\n",
    "* stwórz nowy zbiór zawierający elementy, które znajdują się w zbiorze ryby, a które nie znajdują się w zbiorze maly_staw (użyj metody difference)\n",
    "* zaktualizuj zbiór zwierzeta o nowy zbiór pets = {\"cat\", \"dog\"} (użyj metody update)\n",
    "* zaktualizuj zbiór ryby zostawiając w nim tylko elementy wspólne ze zbiorem maly_staw (użyj metody intersection_update)\n",
    "* zaktualizuj zbiór ptaki zostawiając w nim tylko te elementy, których nie ma w zbiorze pets (użyj metody difference_update)\n",
    "* zaktualizuj zbiór a = {1, 2, 3} zostawiając w nim tylko elementy wspólne ze zbiorem b = {3, 4, 5} (użyj metody symmetric_difference_update)\n",
    "* usuń element \"dorsz\" ze zbioru zwierzęta (użyj metody remove)\n",
    "* usuń i zwróć dowolny element ze zbioru zwierzęta (użyj metody pop)\n",
    "* używając metody discard spróbuj usunąć elementy \"karp\" i \"rekin\" ze zbioru ryby. Co robi metoda discard, kiedy próbujesz usunąć nieistniejący element ?\n",
    "\n",
    "Podpowiedź: użyj instrukcji help(set), żeby wyświetlić krótki opis wszystkich metod zbioru. Metody, których nazwy rozpoczynają się od __ (double underscore = dunder) omówimy w bloku Python średnio-zaawansowany"
   ]
  },
  {
   "cell_type": "code",
   "execution_count": 46,
   "id": "3cb6b941",
   "metadata": {},
   "outputs": [],
   "source": [
    "# Tutaj umieść swój kod\n"
   ]
  },
  {
   "cell_type": "markdown",
   "id": "3f955ce4",
   "metadata": {},
   "source": [
    "#### 6. Funckja range\n",
    "\n",
    "Przed wykonaniem poniższego kodu w konsoli Python spróbuj odgadnąć wynik:​\n",
    "\n",
    "<code>range(3)\n",
    "list(range(0, 3))\n",
    "list(range(1, 10, 2))\n",
    "list(range(0, -10, -1))\n",
    "range(5) == range(0, 5) == range(0, 5, 1)\n",
    "\n",
    "for iteration in range(3):\n",
    "    print(f\"Iteracja {iteration}\")\n",
    "</code>"
   ]
  },
  {
   "cell_type": "code",
   "execution_count": 47,
   "id": "20a4783d",
   "metadata": {},
   "outputs": [],
   "source": [
    "# Tutaj umieść swój kod\n"
   ]
  },
  {
   "cell_type": "markdown",
   "id": "82ee9d79",
   "metadata": {},
   "source": [
    "#### 7. Operatory porównania i zawierania dla kolekcji\n",
    "\n",
    "Przed wykonaniem poniższego kodu w konsoli Python spróbuj odgadnąć wynik:​\n",
    "\n",
    "<code>{\"A\": 1, \"B\": 2} == {\"A\": 1}\n",
    "[0, 1, 2] == [0, 1, 2]\n",
    "1 in (1, 2, 3)\n",
    "1 not in {\"A\": 1}\n",
    "1 in {\"A\": 1}.values()\n",
    "[5, 4] == (5, 4)\n",
    "</code>\n",
    "<code>\n",
    "\"abc\" &lt; \"abcd\"\n",
    "[10, 0] > [1, 5000, 6000]\n",
    "(\"a\", \"x\") > (\"a\", \"b\", \"c\")\n",
    "{\"abc\", \"zzz\"} > {\"abc\", \"abc\"}\n",
    "</code>"
   ]
  },
  {
   "cell_type": "code",
   "execution_count": 48,
   "id": "ea939b2c",
   "metadata": {},
   "outputs": [],
   "source": [
    "# Tutaj umieść swój kod\n"
   ]
  }
 ],
 "metadata": {
  "kernelspec": {
   "display_name": "Python 3 (ipykernel)",
   "language": "python",
   "name": "python3"
  },
  "language_info": {
   "codemirror_mode": {
    "name": "ipython",
    "version": 3
   },
   "file_extension": ".py",
   "mimetype": "text/x-python",
   "name": "python",
   "nbconvert_exporter": "python",
   "pygments_lexer": "ipython3",
   "version": "3.8.6"
  }
 },
 "nbformat": 4,
 "nbformat_minor": 5
}
