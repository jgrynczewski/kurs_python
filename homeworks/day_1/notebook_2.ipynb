{
 "cells": [
  {
   "cell_type": "markdown",
   "id": "e093ab1a",
   "metadata": {},
   "source": [
    "## Funkcja print (standardowe wyjście)"
   ]
  },
  {
   "cell_type": "markdown",
   "id": "01d28b57",
   "metadata": {},
   "source": [
    "#### Zad 1"
   ]
  },
  {
   "cell_type": "markdown",
   "id": "c7132727",
   "metadata": {},
   "source": [
    "Przyjęło się, że pierwszym programem, który pisze się w nowo poznanym języku jest program wypisujący na ekranie napis „Hello, world!”."
   ]
  },
  {
   "cell_type": "code",
   "execution_count": 1,
   "id": "59135aca",
   "metadata": {},
   "outputs": [
    {
     "name": "stdout",
     "output_type": "stream",
     "text": [
      "Hello, world!\n"
     ]
    }
   ],
   "source": [
    "print(\"Hello, world!\")"
   ]
  },
  {
   "cell_type": "markdown",
   "id": "33e62af6",
   "metadata": {},
   "source": [
    "Napisz program, który wypisze na ekranie napis, który w miejsce world wyświetli Twoje imię.\n",
    "\n",
    "Niech program, który wypisuje drugi raz ten tekst w nowej linii (użyj jednej funkcji print i symbolu końca linii \\n).\n",
    "\n",
    "Czy zmieni coś zamiana cudzysłowów \"\" na apostrofy '' ?"
   ]
  },
  {
   "cell_type": "code",
   "execution_count": 2,
   "id": "d9d17bb8",
   "metadata": {},
   "outputs": [],
   "source": [
    "# Tutaj umieść swój kod\n"
   ]
  },
  {
   "cell_type": "markdown",
   "id": "f43e44b1",
   "metadata": {},
   "source": [
    "## Funkcja type"
   ]
  },
  {
   "cell_type": "markdown",
   "id": "a973a90f",
   "metadata": {},
   "source": [
    "\n",
    "#### Zad 2"
   ]
  },
  {
   "cell_type": "markdown",
   "id": "15ab482a",
   "metadata": {},
   "source": [
    "Napisz program, który poda jaki typ ma wartość:\n",
    "\n",
    "* 300\n",
    "* 300.0\n",
    "* \"300\"\n",
    "* 300j"
   ]
  },
  {
   "cell_type": "code",
   "execution_count": 3,
   "id": "49e68c81",
   "metadata": {},
   "outputs": [],
   "source": [
    "# Tutaj umieść swój kod\n"
   ]
  },
  {
   "cell_type": "markdown",
   "id": "6067dd89",
   "metadata": {},
   "source": [
    "## Operatory"
   ]
  },
  {
   "cell_type": "markdown",
   "id": "1f649338",
   "metadata": {},
   "source": [
    "\n",
    "#### Zad 3"
   ]
  },
  {
   "cell_type": "markdown",
   "id": "a0249db8",
   "metadata": {},
   "source": [
    "Jaki otrzymasz wynik ?\n",
    "\n",
    "* Operatory arytmetyczne\n",
    "\n",
    "    * 1+2+5-(2*2) \n",
    "    * 501.0 - 99.9999\n",
    "    * 2**3\n",
    "    * 10.0 / 4.0\n",
    "    * 10.0 // 4.0\n",
    "    * 5 % 2\n",
    "\n",
    "* Operatory porównania\n",
    "    * 2 == 2\n",
    "    * 1 != 1\n",
    "    * 99 > 1.1\n",
    "    \n",
    "\n",
    "Jaki typu jest wynik 2.+2  ?"
   ]
  },
  {
   "cell_type": "code",
   "execution_count": 4,
   "id": "303cb11c",
   "metadata": {},
   "outputs": [],
   "source": [
    "# Tutaj umieść swój kod\n"
   ]
  },
  {
   "cell_type": "markdown",
   "id": "c64e44d9",
   "metadata": {},
   "source": [
    "\n",
    "#### Zad 4"
   ]
  },
  {
   "cell_type": "markdown",
   "id": "ed32e080",
   "metadata": {},
   "source": [
    "Popraw poniższe wyrażenia tak, żeby każde wyrażenie zwracało wartość True\n",
    "\n",
    "<code>\n",
    "\"asd\" == \"qwe\"\n",
    "3 > 6\n",
    "\"as\" <= \"ad\"\n",
    "\"z\" < \"n\"\n",
    "45 != 45\n",
    "</code>"
   ]
  },
  {
   "cell_type": "code",
   "execution_count": 5,
   "id": "6ebe3965",
   "metadata": {},
   "outputs": [],
   "source": [
    "# Tutaj umieść swój kod\n"
   ]
  },
  {
   "cell_type": "markdown",
   "id": "08243e1f",
   "metadata": {},
   "source": [
    "## Zmienne"
   ]
  },
  {
   "cell_type": "markdown",
   "id": "9f270592",
   "metadata": {},
   "source": [
    "\n",
    "#### Zad 5"
   ]
  },
  {
   "cell_type": "markdown",
   "id": "69762a36",
   "metadata": {},
   "source": [
    "* Stwórz zmienną example i przypisz do niej wartość None\n",
    "* Wypisz na ekranie typ zmiennej example\n",
    "* Nadpisz wartość zmiennej example nową wartością - \"yes\"\n",
    "* Wypisz ponownie typ zmiennej example\n",
    "* Stwórz dwie nowe zmienne (o dowolnych nazwach) i przypisz do nich wartości całkowitoliczbowe.  * Wypisz na ekranie wyniki dodania tych dwóch zmiennych\n",
    "* Stwórz nową zmienną source_var i przypisz do niej wartość \"Magic\"\n",
    "* Stwórz nową zmienną copy_var i przypisz do niej wartość zmiennej source_var\n",
    "* Wypisz na ekranie wartość zmiennej copy_var. Czy jest taka sama jak wartość zmiennej source_var ?"
   ]
  },
  {
   "cell_type": "code",
   "execution_count": 6,
   "id": "fac94f58",
   "metadata": {},
   "outputs": [],
   "source": [
    "# Tutaj umieść swój kod\n"
   ]
  },
  {
   "cell_type": "markdown",
   "id": "43d9fa13",
   "metadata": {},
   "source": [
    "## Funkcja print c.d."
   ]
  },
  {
   "cell_type": "markdown",
   "id": "69e71493",
   "metadata": {},
   "source": [
    "\n",
    "#### Zad 6"
   ]
  },
  {
   "cell_type": "markdown",
   "id": "0668693c",
   "metadata": {},
   "source": [
    "Przed wykonaniem poniższych linijek kodu spróbuj powiedzieć jaki będzie wynik.\n",
    "\n",
    "* print(\"Jaki\", \"piękny\", \"dzień\")\n",
    "* print(\"1\", \"2\", 3, 4, 5)\n",
    "* fruit = \"pomarańcze\"\n",
    "* print(\"jabłka\", \"banany\", fruit, sep=\", \")\n",
    "* print(\"Wypisywanie w trakcie... \", end=\"\")\n",
    "\n",
    "(f-string)\n",
    "* print(f\"Lubię {fruit}!\")"
   ]
  },
  {
   "cell_type": "code",
   "execution_count": 7,
   "id": "1b5a0950",
   "metadata": {},
   "outputs": [],
   "source": [
    "# Tutaj umieść swój kod\n"
   ]
  },
  {
   "cell_type": "markdown",
   "id": "65ee4f51",
   "metadata": {},
   "source": [
    "## Funkcja input (standardowe wejście)"
   ]
  },
  {
   "cell_type": "markdown",
   "id": "583ebb17",
   "metadata": {},
   "source": [
    "\n",
    "#### Zad 7"
   ]
  },
  {
   "cell_type": "markdown",
   "id": "f66ec718",
   "metadata": {},
   "source": [
    "Napisz program, który zapyta się użytkownika kolejno o imię, o nazwisko, a następnie wypisze na ekranie napis:\n",
    "\n",
    "<b>Witaj &lt;nazwisko&gt; &lt;imię&gt; !</b>"
   ]
  },
  {
   "cell_type": "code",
   "execution_count": 8,
   "id": "df89dc12",
   "metadata": {},
   "outputs": [],
   "source": [
    "# Tutaj umieść swój kod\n"
   ]
  },
  {
   "cell_type": "markdown",
   "id": "169f28b7",
   "metadata": {},
   "source": [
    "#### Zad 8"
   ]
  },
  {
   "cell_type": "markdown",
   "id": "6fd43b0a",
   "metadata": {},
   "source": [
    "Napisz skrypt, który zapyta użytkownika o wartość promienia, a następnie dla zadanego promienia r wyświetli wartość pola koła o takim promieniu."
   ]
  },
  {
   "cell_type": "code",
   "execution_count": 9,
   "id": "2ed07c65",
   "metadata": {},
   "outputs": [],
   "source": [
    "# Tutaj umieść swój kod\n"
   ]
  },
  {
   "cell_type": "markdown",
   "id": "9191ba38",
   "metadata": {},
   "source": [
    "#### Zad 9"
   ]
  },
  {
   "cell_type": "markdown",
   "id": "79c911b1",
   "metadata": {},
   "source": [
    "Napisz program, który poprosi użytkownika o imię i wiek, a następnie wypisze na ekranie informację o tym w jakim wieku będzie użytkownik za 100 lat."
   ]
  },
  {
   "cell_type": "code",
   "execution_count": 10,
   "id": "003525d0",
   "metadata": {},
   "outputs": [],
   "source": [
    "# Tutaj umieść swój kod\n"
   ]
  },
  {
   "cell_type": "markdown",
   "id": "84a819ea",
   "metadata": {},
   "source": [
    "#### Zad 10"
   ]
  },
  {
   "cell_type": "markdown",
   "id": "2018032e",
   "metadata": {},
   "source": [
    "Napisz program, który poprosi użytkownika o imię i wiek, a następnie wypisze na ekranie informację o tym w jakim wieku będzie użytkownik za 100 lat.\n",
    "\n",
    "Przykład wywołania poprawnie działającego programu:\n",
    "\n",
    "<code>(venv) C:\\Users\\Ania\\PycharmProjects\\pierwszy>python cw1.py\n",
    "Podaj mi swoje imię: Jack\n",
    "Podaj mi swój wiek: 30\n",
    "Jack, za sto lat będziesz miał 130.</code>"
   ]
  },
  {
   "cell_type": "code",
   "execution_count": 11,
   "id": "b8d2bbbd",
   "metadata": {},
   "outputs": [],
   "source": [
    "# Tutaj umieść swój kod\n"
   ]
  },
  {
   "cell_type": "markdown",
   "id": "96074db0",
   "metadata": {},
   "source": [
    "## Warunki"
   ]
  },
  {
   "cell_type": "markdown",
   "id": "730db4de",
   "metadata": {},
   "source": [
    "#### Zad 11"
   ]
  },
  {
   "cell_type": "markdown",
   "id": "84169cdb",
   "metadata": {},
   "source": [
    "Napisz program, który wypisze na ekranie komunikat, czy wartość zmiennej jest parzysta, czy nieparzysta."
   ]
  },
  {
   "cell_type": "code",
   "execution_count": 12,
   "id": "057b93fa",
   "metadata": {},
   "outputs": [],
   "source": [
    "# Tutaj umieść swój kod\n"
   ]
  },
  {
   "cell_type": "markdown",
   "id": "dd2177e8",
   "metadata": {},
   "source": [
    "#### Zad 12"
   ]
  },
  {
   "cell_type": "markdown",
   "id": "3ccb0581",
   "metadata": {},
   "source": [
    "Napisz program, który wypisze na ekranie komunikat, czy podana przez użytkownika liczba jest parzysta, czy nieparzysta."
   ]
  },
  {
   "cell_type": "code",
   "execution_count": 13,
   "id": "34893e81",
   "metadata": {},
   "outputs": [],
   "source": [
    "# Tutaj umieść swój kod\n"
   ]
  },
  {
   "cell_type": "markdown",
   "id": "a53bc366",
   "metadata": {},
   "source": [
    "#### Zad 13"
   ]
  },
  {
   "cell_type": "markdown",
   "id": "018880be",
   "metadata": {},
   "source": [
    "Napisz program, który pyta użytkownika o podanie wzrostu, a następnie jeżeli:\n",
    "\n",
    "* podana wartość jest mniejsza od 165 wyświetla komunikat 'Wzrost niski'\n",
    "* podana wartość znajduje się w przedziale 165-185 'Wzrost średni'\n",
    "* podana wartość jest większa od 185 wyświetla komunikat 'Wzrost wysoki'"
   ]
  },
  {
   "cell_type": "code",
   "execution_count": 14,
   "id": "9c19bd34",
   "metadata": {},
   "outputs": [],
   "source": [
    "# Tutaj umieść swój kod\n"
   ]
  },
  {
   "cell_type": "markdown",
   "id": "e13d1181",
   "metadata": {},
   "source": [
    "#### Zad 14"
   ]
  },
  {
   "cell_type": "markdown",
   "id": "68fdf091",
   "metadata": {},
   "source": [
    "Napisz program, który do podanego przez użytkownika napisu dopisze napis „ls” i tak zmieniony napis wyświetli na ekranie. W przypadku, jeżeli podany zostanie napis „ls”, program powinien zwracać napis w niezmienionej postaci."
   ]
  },
  {
   "cell_type": "code",
   "execution_count": 15,
   "id": "27248fba",
   "metadata": {},
   "outputs": [],
   "source": [
    "# Tutaj umieść swój kod\n"
   ]
  },
  {
   "cell_type": "markdown",
   "id": "b594fb18",
   "metadata": {},
   "source": [
    "#### Zad 15"
   ]
  },
  {
   "cell_type": "markdown",
   "id": "57272eb2",
   "metadata": {},
   "source": [
    "Napisz program, który dla podanej liczby zwróci:\n",
    "\n",
    "* różnicę pomiędzy tą liczbą, a liczbą 17, jeżeli różnica jest mniejsza od 17\n",
    "* kwadrat tej różnicy w przeciwnym wypadku."
   ]
  },
  {
   "cell_type": "code",
   "execution_count": 16,
   "id": "4a465ae7",
   "metadata": {},
   "outputs": [],
   "source": [
    "# Tutaj umieść swój kod\n"
   ]
  },
  {
   "cell_type": "markdown",
   "id": "d9caf59f",
   "metadata": {},
   "source": [
    "#### Zad 16"
   ]
  },
  {
   "cell_type": "markdown",
   "id": "de2e2a3c",
   "metadata": {},
   "source": [
    "Napisz program, który wypisze na ekranie, czy podana przez użytkownika liczba jest podzielna przez 7."
   ]
  },
  {
   "cell_type": "code",
   "execution_count": 17,
   "id": "a099be02",
   "metadata": {},
   "outputs": [],
   "source": [
    "# Tutaj umieść swój kod\n"
   ]
  },
  {
   "cell_type": "markdown",
   "id": "44038e60",
   "metadata": {},
   "source": [
    "#### Zad 17"
   ]
  },
  {
   "cell_type": "markdown",
   "id": "4e882fc5",
   "metadata": {},
   "source": [
    "Napisz program, który zwróci sumę trzech podanych liczb. W przypadku, kiedy wszystkie trzy liczby są równe zwróci potrójną wartość ich sumy."
   ]
  },
  {
   "cell_type": "code",
   "execution_count": 18,
   "id": "eae128be",
   "metadata": {},
   "outputs": [],
   "source": [
    "# Tutaj umieść swój kod\n"
   ]
  },
  {
   "cell_type": "markdown",
   "id": "87a0ae03",
   "metadata": {},
   "source": [
    "#### Zad 18"
   ]
  },
  {
   "cell_type": "markdown",
   "id": "dd868b5c",
   "metadata": {},
   "source": [
    "Napisz program, który wyliczy objętość kuli dla zadanego jej promienia. Akceptowane wartości promienia [1, 1000]. Program powinien wyświetlać odpowiedni komunikat, jeżeli podany promień będzie miał wartość niedodatnią lub jeżeli będzie miał wartość większą niż 1 000"
   ]
  },
  {
   "cell_type": "code",
   "execution_count": 19,
   "id": "c0bcd288",
   "metadata": {},
   "outputs": [],
   "source": [
    "# Tutaj umieść swój kod\n"
   ]
  },
  {
   "cell_type": "markdown",
   "id": "5168a9a4",
   "metadata": {},
   "source": [
    "#### Zad 19"
   ]
  },
  {
   "cell_type": "markdown",
   "id": "3264d0d3",
   "metadata": {},
   "source": [
    "Napisz program, który konwertuje podaną liczbę stopni pomiędzy skalami Celsjusza i Farenheita.\n",
    "\n",
    "Przykłady użycia:\n",
    "\n",
    "Użytkownik podaje najpierw liczbę stopni, np. 60, a następnie skalę w której są podane stopnie, np. c (c – Celsjusz, f – Farenheit). Jeżeli użytkownik poda najpierw 60, a potem c, program powinien zwróć napis 140f. Jeżeli użytkownik poda najpierw 45, a potem f program powinien zwrócić 7c\n",
    "\n",
    "Odpowiednich formuł konwersji poszukaj w internecie."
   ]
  },
  {
   "cell_type": "code",
   "execution_count": 20,
   "id": "49ba2be1",
   "metadata": {},
   "outputs": [],
   "source": [
    "# Tutaj umieść swój kod\n"
   ]
  },
  {
   "cell_type": "markdown",
   "id": "bb2ae8f3",
   "metadata": {},
   "source": [
    "## Pętle"
   ]
  },
  {
   "cell_type": "markdown",
   "id": "158c3530",
   "metadata": {},
   "source": [
    "#### Zad 20"
   ]
  },
  {
   "cell_type": "markdown",
   "id": "f0345e90",
   "metadata": {},
   "source": [
    "Napisz program, który wypisuje na ekranie kolejne liczby naturalne od 0 do 10.​"
   ]
  },
  {
   "cell_type": "code",
   "execution_count": 21,
   "id": "6189d6f6",
   "metadata": {},
   "outputs": [],
   "source": [
    "# Tutaj umieść swój kod\n"
   ]
  },
  {
   "cell_type": "markdown",
   "id": "532f291d",
   "metadata": {},
   "source": [
    "#### Zad 21"
   ]
  },
  {
   "cell_type": "markdown",
   "id": "df66ec3e",
   "metadata": {},
   "source": [
    "Napisz program, który wypisuje na ekranie kolejne liczy naturalne z zadanego przez użytkownika przedziału."
   ]
  },
  {
   "cell_type": "code",
   "execution_count": 22,
   "id": "04e989ce",
   "metadata": {},
   "outputs": [],
   "source": [
    "# Tutaj umieść swój kod\n"
   ]
  },
  {
   "cell_type": "markdown",
   "id": "27ff3cee",
   "metadata": {},
   "source": [
    "#### Zad 22"
   ]
  },
  {
   "cell_type": "markdown",
   "id": "86c45cae",
   "metadata": {},
   "source": [
    "Napisz program, który wypisuje na ekranie kolejne liczy naturalne od 12 do 23."
   ]
  },
  {
   "cell_type": "code",
   "execution_count": 23,
   "id": "99d55661",
   "metadata": {},
   "outputs": [],
   "source": [
    "# Tutaj umieść swój kod\n"
   ]
  },
  {
   "cell_type": "markdown",
   "id": "93e288a3",
   "metadata": {},
   "source": [
    "#### Zad 23"
   ]
  },
  {
   "cell_type": "markdown",
   "id": "71fb11d0",
   "metadata": {},
   "source": [
    "Napisz program, który wypisuje na ekranie kolejne liczy parzyste (od 0 do 14)."
   ]
  },
  {
   "cell_type": "code",
   "execution_count": 24,
   "id": "c5d6152c",
   "metadata": {},
   "outputs": [],
   "source": [
    "# Tutaj umieść swój kod\n"
   ]
  },
  {
   "cell_type": "markdown",
   "id": "f8548e5b",
   "metadata": {},
   "source": [
    "#### Zad 24"
   ]
  },
  {
   "cell_type": "markdown",
   "id": "dfb978b6",
   "metadata": {},
   "source": [
    "Napisz program, który wyświetli liczby będące wielokrotnością 5 i podzielne przez 7  z przedziału 1500 - 2700"
   ]
  },
  {
   "cell_type": "code",
   "execution_count": 25,
   "id": "ef370770",
   "metadata": {},
   "outputs": [],
   "source": [
    "# Tutaj umieść swój kod\n"
   ]
  },
  {
   "cell_type": "markdown",
   "id": "6b0e4b70",
   "metadata": {},
   "source": [
    "#### Zad 25"
   ]
  },
  {
   "cell_type": "markdown",
   "id": "24ff0c87",
   "metadata": {},
   "source": [
    "Napisz program, który wypisze na ekranie liczby od 0 do 6 z pominięciem 3 i 6. Jeżeli w rozwiązaniu nie użyjesz instrukcji continue, spróbuj później zmodyfikować swoje rozwiązanie tak, żeby używało tej instrukcji."
   ]
  },
  {
   "cell_type": "code",
   "execution_count": 26,
   "id": "8443f0d3",
   "metadata": {},
   "outputs": [],
   "source": [
    "# Tutaj umieść swój kod\n"
   ]
  },
  {
   "cell_type": "markdown",
   "id": "082add59",
   "metadata": {},
   "source": [
    "### Zad"
   ]
  },
  {
   "cell_type": "markdown",
   "id": "1d4d98e7",
   "metadata": {},
   "source": [
    "Napisz program, który wypisuje na ekranie kwadraty wszystkich liczb całkowitych od 1 do 10."
   ]
  },
  {
   "cell_type": "code",
   "execution_count": 27,
   "id": "ecc26d2a",
   "metadata": {},
   "outputs": [],
   "source": [
    "# Tutaj umieść swój kod\n"
   ]
  },
  {
   "cell_type": "markdown",
   "id": "d9e7f280",
   "metadata": {},
   "source": [
    "#### Zad 26"
   ]
  },
  {
   "cell_type": "markdown",
   "id": "6b62e740",
   "metadata": {},
   "source": [
    "Napisz program sprawdzający hipotezę Collatza.\n",
    "\n",
    "Algorytm postępowania:\n",
    "\n",
    "* weź dowolną liczbę naturalną\n",
    "* jeśli jest parzysta, podziel ją przez 2\n",
    "* jeśli jest nieparzysta pomnóż ją przez 3 i dodaj 1\n",
    "* jeśli jest jedynką to skończ\n",
    "\n",
    "Powyższy program zawsze w końcu dojdzie do jedynki dla dowolnej liczby całkowitej, ale matematycy do dziś nie są w stanie udowodnić dlaczego."
   ]
  },
  {
   "cell_type": "code",
   "execution_count": 28,
   "id": "f781a8eb",
   "metadata": {},
   "outputs": [],
   "source": [
    "# Tutaj umieść swój kod\n"
   ]
  },
  {
   "cell_type": "markdown",
   "id": "a058aef1",
   "metadata": {},
   "source": [
    "#### Zad 27"
   ]
  },
  {
   "cell_type": "markdown",
   "id": "c9e0b7c7",
   "metadata": {},
   "source": [
    "Napisz program, który będzie wyświetlał w pętli kolejne napisy wprowadzone przez użytkownika.\n",
    "\n",
    "Przykładowe wywołanie:\n",
    "\n",
    "<code>C:\\Users\\Ania\\PycharmProjects\\testtt>python exit0.py\n",
    "Wprowadź wartosc: 'ala'\n",
    "Wprowadzono ala\n",
    "Wprowadź wartosc: 'blank'\n",
    "Wprowadzono blank\n",
    "Wprowadź wartosc: 'exit'\n",
    "Wprowadzono exit\n",
    "</code>"
   ]
  },
  {
   "cell_type": "code",
   "execution_count": 29,
   "id": "7810d52d",
   "metadata": {},
   "outputs": [],
   "source": [
    "# Tutaj umieść swój kod\n"
   ]
  },
  {
   "cell_type": "markdown",
   "id": "742476cb",
   "metadata": {},
   "source": [
    "#### Zad 28"
   ]
  },
  {
   "cell_type": "markdown",
   "id": "378c535b",
   "metadata": {},
   "source": [
    "Napisz program, który będzie wyświetlał w pętli kolejne napisy wprowadzone przez użytkownika. Jeżeli użytkownik wprowadzi wartość 'blank' będzie ona ignorowana.\n",
    "\n",
    "Przykładowe wywołanie:\n",
    "\n",
    "<code>C:\\Users\\Ania\\PycharmProjects\\testtt>python exit1.py\n",
    "Wprowadź wartosc 'ala'\n",
    "Wprowadzono ala\n",
    "Wprowadź wartosc 'blank'\n",
    "Wprowadź wartosc 'exit'\n",
    "Wprowadzono exit</code>"
   ]
  },
  {
   "cell_type": "code",
   "execution_count": 30,
   "id": "8e8494da",
   "metadata": {},
   "outputs": [],
   "source": [
    "# Tutaj umieść swój kod\n"
   ]
  },
  {
   "cell_type": "markdown",
   "id": "7d58824e",
   "metadata": {},
   "source": [
    "#### Zad 29"
   ]
  },
  {
   "cell_type": "markdown",
   "id": "c3ddc686",
   "metadata": {},
   "source": [
    "Napisz program, który będzie wyświetlał w pętli kolejne napisy wprowadzone przez użytkownika. Jeżeli użytkownik wprowadzi wartość blank będzie ona ignorowana. Jeżeli użytkownik napisze exit program zakończy swoje działanie.\n",
    "\n",
    "Przykładowe wywołanie:\n",
    "\n",
    "<code>C:\\Users\\Ania\\PycharmProjects\\testtt>python exit2.py\n",
    "Wprowadź wartosc 'ala' \n",
    "Wprowadzono ala\n",
    "Wprowadź wartosc 'blank'\n",
    "Wprowadź wartosc 'exit'\n",
    "C:\\Users\\Ania\\PycharmProjects\\testtt></code>"
   ]
  },
  {
   "cell_type": "code",
   "execution_count": 31,
   "id": "459fcf95",
   "metadata": {},
   "outputs": [],
   "source": [
    "# Tutaj umieść swój kod\n"
   ]
  },
  {
   "cell_type": "markdown",
   "id": "b3a4365b",
   "metadata": {},
   "source": [
    "## Funkcje"
   ]
  },
  {
   "cell_type": "markdown",
   "id": "5d46f47f",
   "metadata": {},
   "source": [
    "#### Zad 30"
   ]
  },
  {
   "cell_type": "markdown",
   "id": "0d363b60",
   "metadata": {},
   "source": [
    "Napisz funkcję, która na wejściu przyjmuje trzy liczby, a na wyjściu zwraca liczbę najmniejszą."
   ]
  },
  {
   "cell_type": "code",
   "execution_count": 32,
   "id": "11a530a4",
   "metadata": {},
   "outputs": [],
   "source": [
    "# Tutaj umieść swój kod\n"
   ]
  },
  {
   "cell_type": "markdown",
   "id": "c1e52c53",
   "metadata": {},
   "source": [
    "#### Zad 31"
   ]
  },
  {
   "cell_type": "markdown",
   "id": "e1409ceb",
   "metadata": {},
   "source": [
    "Napisz funkcję, która na wejściu przyjmuje trzy liczby, a na wyjściu zwraca ich medianę (wartość środkową)."
   ]
  },
  {
   "cell_type": "code",
   "execution_count": 33,
   "id": "aaaecd05",
   "metadata": {},
   "outputs": [],
   "source": [
    "# Tutaj umieść swój kod\n"
   ]
  },
  {
   "cell_type": "markdown",
   "id": "6649df67",
   "metadata": {},
   "source": [
    "#### Zad 32"
   ]
  },
  {
   "cell_type": "markdown",
   "id": "e609a888",
   "metadata": {},
   "source": [
    "Napisz funkcję, która na wejściu przyjmuje promień koła, a na wyjściu zwróci pole koła o takim promieniu.\n",
    "\n",
    "Wywołanie:\n",
    "\n",
    "<code>res = get_area(10)\n",
    "print(res)\n",
    "</code>\n",
    "\n",
    "Powinno wyświetlić na ekranie napis:\n",
    "\n",
    "<code>31.4</code>"
   ]
  },
  {
   "cell_type": "code",
   "execution_count": 34,
   "id": "bc74b019",
   "metadata": {},
   "outputs": [],
   "source": [
    "# Tutaj umieść swój kod\n"
   ]
  }
 ],
 "metadata": {
  "kernelspec": {
   "display_name": "Python 3 (ipykernel)",
   "language": "python",
   "name": "python3"
  },
  "language_info": {
   "codemirror_mode": {
    "name": "ipython",
    "version": 3
   },
   "file_extension": ".py",
   "mimetype": "text/x-python",
   "name": "python",
   "nbconvert_exporter": "python",
   "pygments_lexer": "ipython3",
   "version": "3.11.1"
  }
 },
 "nbformat": 4,
 "nbformat_minor": 5
}
